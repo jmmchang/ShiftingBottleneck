{
 "cells": [
  {
   "cell_type": "code",
   "id": "initial_id",
   "metadata": {
    "collapsed": true,
    "ExecuteTime": {
     "end_time": "2025-10-07T16:33:09.290358Z",
     "start_time": "2025-10-07T16:33:08.862748Z"
    }
   },
   "source": "from functions import DAG",
   "outputs": [],
   "execution_count": 1
  },
  {
   "metadata": {
    "ExecuteTime": {
     "end_time": "2025-10-07T16:33:09.314420Z",
     "start_time": "2025-10-07T16:33:09.310195Z"
    }
   },
   "cell_type": "code",
   "source": [
    "NUM_JOBS, NUM_MACHINES = 3, 4\n",
    "edges = [(\"source\", (1, 1), 0), (\"source\", (2, 2), 0), (\"source\", (1, 3), 0), ((1, 1), (2, 1), 10), ((2, 2), (1, 2), 8), ((1, 3), (2, 3), 4), ((2, 1), (3, 1), 8), ((1, 2), (4, 2), 3), ((2, 3), (4, 3), 7), ((4, 2), (3, 2), 5), ((3, 1), \"sink\", 4), ((4, 3), \"sink\", 3), ((3, 2), \"sink\", 6)]\n",
    "processing_times = {(1, 1) : 10, (2, 1) : 8, (3, 1) : 4, (2, 2) : 8, (1, 2) : 3, (4, 2) : 5, (3, 2) : 6, (1, 3) : 4, (2, 3) : 7, (4, 3) : 3}"
   ],
   "id": "c272713567e49b7f",
   "outputs": [],
   "execution_count": 2
  },
  {
   "metadata": {
    "ExecuteTime": {
     "end_time": "2025-10-07T16:33:09.576988Z",
     "start_time": "2025-10-07T16:33:09.316924Z"
    }
   },
   "cell_type": "code",
   "source": [
    "object = DAG(NUM_JOBS, NUM_MACHINES)\n",
    "makespan, disjunctive_edges = object.run(edges, processing_times)\n",
    "print(f\"Makespan：{makespan}\")\n",
    "print(f\"Disjunctive Edges：\\n{disjunctive_edges}\")"
   ],
   "id": "57259fcad8d3d6a",
   "outputs": [
    {
     "name": "stdout",
     "output_type": "stream",
     "text": [
      "Makespan：28\n",
      "Disjunctive Edges：\n",
      "defaultdict(<class 'list'>, {1: [(1, 1), (1, 3), (1, 2)], 2: [(2, 2), (2, 1), (2, 3)], 3: [(3, 1), (3, 2)], 4: [(4, 2), (4, 3)]})\n"
     ]
    }
   ],
   "execution_count": 3
  }
 ],
 "metadata": {
  "kernelspec": {
   "display_name": "Python [conda env:base] *",
   "language": "python",
   "name": "conda-base-py"
  },
  "language_info": {
   "codemirror_mode": {
    "name": "ipython",
    "version": 2
   },
   "file_extension": ".py",
   "mimetype": "text/x-python",
   "name": "python",
   "nbconvert_exporter": "python",
   "pygments_lexer": "ipython2",
   "version": "2.7.6"
  }
 },
 "nbformat": 4,
 "nbformat_minor": 5
}
